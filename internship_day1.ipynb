{
 "cells": [
  {
   "cell_type": "code",
   "execution_count": 4,
   "id": "587a3fb7",
   "metadata": {},
   "outputs": [
    {
     "name": "stdout",
     "output_type": "stream",
     "text": [
      "[('a', 5), ('file', 4), ('text', 3), ('of', 3), ('is', 2)]\n"
     ]
    }
   ],
   "source": [
    "from collections import Counter\n",
    "\n",
    "def top_five_words(file_path):\n",
    "    with open(file_path, 'r', encoding='utf-8') as file:\n",
    "        text = file.read().lower()  \n",
    "        words = text.split() \n",
    "        \n",
    "        words = [word.strip(\".,!?;:\") for word in words]\n",
    "        \n",
    "        word_counts = Counter(words) \n",
    "        \n",
    "        return word_counts.most_common(5)  \n",
    "\n",
    "\n",
    "file_path = \"text_file.txt\"\n",
    "\n",
    "\n",
    "print(top_five_words(file_path))\n"
   ]
  },
  {
   "cell_type": "code",
   "execution_count": 5,
   "id": "bc245664",
   "metadata": {},
   "outputs": [
    {
     "name": "stdout",
     "output_type": "stream",
     "text": [
      "[('a', 5), ('file', 4), ('text', 3), ('of', 3), ('is', 2)]\n"
     ]
    }
   ],
   "source": [
    "def top_five_words():\n",
    "    file_path = \"text_file.txt\"  \n",
    "    with open(file_path, 'r', encoding='utf-8') as file:\n",
    "        text = file.read().lower()\n",
    "        words = text.split()\n",
    "        words = [word.strip(\".,!?;:\") for word in words]\n",
    "        word_counts = Counter(words)\n",
    "        return word_counts.most_common(5)\n",
    "\n",
    "print(top_five_words())\n"
   ]
  },
  {
   "cell_type": "code",
   "execution_count": 6,
   "id": "e6ccae00",
   "metadata": {},
   "outputs": [
    {
     "name": "stdout",
     "output_type": "stream",
     "text": [
      "{'even': 5, 'odd': 5}\n"
     ]
    }
   ],
   "source": [
    "def count_even_odd(numbers):\n",
    "    count_dict = {\n",
    "        \"even\": sum(1 for num in numbers if num % 2 == 0),\n",
    "        \"odd\": sum(1 for num in numbers if num % 2 != 0)\n",
    "    }\n",
    "    return count_dict\n",
    "\n",
    "numbers_list = [1, 2, 3, 4, 5, 6, 7, 8, 9, 10]\n",
    "result = count_even_odd(numbers_list)\n",
    "print(result)  \n"
   ]
  },
  {
   "cell_type": "code",
   "execution_count": 8,
   "id": "30f7af64",
   "metadata": {},
   "outputs": [
    {
     "name": "stdout",
     "output_type": "stream",
     "text": [
      "Number of rows: 20125\n"
     ]
    }
   ],
   "source": [
    "#write a program to read a csv file,count the number of rows and handle file-not-found exceptions\n",
    "\n",
    "import csv\n",
    "\n",
    "def count_csv_rows(file_path):\n",
    "    file_path=\"annual-enterprise-survey-2023-financial-year-provisional-size-bands.csv\"\n",
    "    try:\n",
    "        with open(file_path, 'r', encoding='utf-8') as file:\n",
    "            reader = csv.reader(file)\n",
    "            row_count = sum(1 for row in reader)  # Count the number of rows\n",
    "        return row_count\n",
    "    except FileNotFoundError:\n",
    "        return \"Error: File not found. Please check the file path.\"\n",
    "    \n",
    "result = count_csv_rows(file_path)\n",
    "print(f\"Number of rows: {result}\")"
   ]
  },
  {
   "cell_type": "code",
   "execution_count": 12,
   "id": "19ffdebe",
   "metadata": {},
   "outputs": [
    {
     "name": "stdout",
     "output_type": "stream",
     "text": [
      "Extracted Emails: ['support@example.com', 'jane.doe123@company.org', 'yyashaswini933@gmail.com', 'admin@website.net']\n"
     ]
    }
   ],
   "source": [
    "#Regular expressions(Regex):extract all valid email addresses from a given text file using pyrhon's re module \n",
    "\n",
    "import re\n",
    "\n",
    "def extract_emails(file_path):\n",
    "    file_path=\"text.txt\"\n",
    "    try:\n",
    "        with open(file_path, 'r', encoding='utf-8') as file:\n",
    "            text = file.read()\n",
    "            \n",
    "            # Regular expression pattern for email extraction\n",
    "            email_pattern = r'[a-zA-Z0-9._%+-]+@[a-zA-Z0-9.-]+\\.[a-zA-Z]{2,}'\n",
    "            emails = re.findall(email_pattern, text)\n",
    "            \n",
    "            return emails\n",
    "    except FileNotFoundError:\n",
    "        return \"Error: File not found. Please check the file path.\"\n",
    "\n",
    "emails = extract_emails(file_path)\n",
    "print(\"Extracted Emails:\", emails)\n"
   ]
  },
  {
   "cell_type": "code",
   "execution_count": null,
   "id": "8df1f0e7",
   "metadata": {},
   "outputs": [],
   "source": [
    "#Pandas DataFrame Manipulation:\n",
    "#Given a CSV file of employee salaries, write a Python script to:\n",
    "#Load the file into a Pandas DataFrame.\n",
    "#Display summary statistics.\n",
    "#Filter employees earning above $50,000.\n",
    "#Save the filtered results to a new CSV file."
   ]
  }
 ],
 "metadata": {
  "kernelspec": {
   "display_name": "Python 3 (ipykernel)",
   "language": "python",
   "name": "python3"
  },
  "language_info": {
   "codemirror_mode": {
    "name": "ipython",
    "version": 3
   },
   "file_extension": ".py",
   "mimetype": "text/x-python",
   "name": "python",
   "nbconvert_exporter": "python",
   "pygments_lexer": "ipython3",
   "version": "3.10.9"
  }
 },
 "nbformat": 4,
 "nbformat_minor": 5
}
